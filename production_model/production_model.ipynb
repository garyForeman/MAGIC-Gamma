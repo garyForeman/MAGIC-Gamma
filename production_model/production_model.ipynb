{
 "cells": [
  {
   "cell_type": "markdown",
   "metadata": {},
   "source": [
    "# Production model\n",
    "\n",
    "Here we retrain a gbm classifier using AWS so that we may easily integrate with a web-based API. We upload our training and testing data to an S3 bucket, train a xgboost classifier using the optimal hyperparameters found during our exploratory data analysis, and test the performance of the xgboost model for consistency with the GBM trained previously."
   ]
  },
  {
   "cell_type": "code",
   "execution_count": 1,
   "metadata": {},
   "outputs": [],
   "source": [
    "import pandas as pd\n",
    "\n",
    "DATA_DIR = '../data/'"
   ]
  },
  {
   "cell_type": "markdown",
   "metadata": {},
   "source": [
    "## Read data\n",
    "\n",
    "Below we read in the training and testing data."
   ]
  },
  {
   "cell_type": "code",
   "execution_count": 2,
   "metadata": {},
   "outputs": [
    {
     "name": "stdout",
     "output_type": "stream",
     "text": [
      "     Length    Width    Size    Conc   Conc1     Asym   M3Long  M3Trans  \\\n",
      "0   24.6014  12.8664  2.3793  0.5637  0.2985  17.3748  19.5657   8.2758   \n",
      "1   49.9223  22.3316  3.2930  0.2363  0.1210   6.7223  51.4013 -12.9949   \n",
      "2   28.1635  15.8070  2.4200  0.4259  0.2490 -17.9803 -13.7842  -8.3405   \n",
      "3  138.3880  44.5241  3.2860  0.0949  0.0674 -71.2351  66.0265 -48.3917   \n",
      "4   80.7882  55.0349  3.4713  0.1449  0.0725  31.8274  70.9064  58.1480   \n",
      "\n",
      "     Alpha      Dist class  \n",
      "0  22.8210  216.9520     g  \n",
      "1   6.8500  240.1190     g  \n",
      "2  17.1252  248.0300     g  \n",
      "3  45.0480  250.2907     h  \n",
      "4  22.5290  277.3980     g  \n",
      "    Length    Width    Size    Conc   Conc1     Asym   M3Long  M3Trans  \\\n",
      "0  21.0483  17.6112  2.4409  0.4529  0.2373  29.5910  -9.6241  14.2623   \n",
      "1  20.9103  15.2311  2.4487  0.4484  0.2331  -0.7028  -7.7378  -7.4624   \n",
      "2  24.0954  10.0126  2.2989  0.6030  0.3141  25.4443  17.9618 -10.6985   \n",
      "3  38.6943  23.8422  2.7029  0.3211  0.1834  14.4893  -9.3039  22.6965   \n",
      "4  69.8372  25.6808  3.6243  0.2040  0.1044 -64.7862  46.2271 -15.5254   \n",
      "\n",
      "     Alpha     Dist class  \n",
      "0  32.4415  173.549     g  \n",
      "1  16.5516  101.877     g  \n",
      "2   0.7880  192.399     g  \n",
      "3  15.7610  199.443     g  \n",
      "4   0.0010  276.058     g  \n"
     ]
    }
   ],
   "source": [
    "train_data = pd.read_csv(DATA_DIR + 'train.csv')\n",
    "test_data = pd.read_csv(DATA_DIR + 'test.csv')\n",
    "print(train_data.head())\n",
    "print(test_data.head())"
   ]
  },
  {
   "cell_type": "markdown",
   "metadata": {},
   "source": [
    "## Recode target\n",
    "\n",
    "Below we'll transform the `class` column so that g = 1 and h = 0."
   ]
  },
  {
   "cell_type": "code",
   "execution_count": 3,
   "metadata": {},
   "outputs": [],
   "source": [
    "train_data['class'] = (train_data['class'] == 'g').astype(int)\n",
    "test_data['class'] = (test_data['class'] == 'g').astype(int)"
   ]
  },
  {
   "cell_type": "markdown",
   "metadata": {},
   "source": [
    "## Format data for S3\n",
    "\n",
    "Data must be formated properly for S3, which requires csv files with no headers. The training data must have the target in the first column."
   ]
  },
  {
   "cell_type": "code",
   "execution_count": 4,
   "metadata": {},
   "outputs": [],
   "source": [
    "test_data[test_data.columns.drop('class')].to_csv(DATA_DIR + 'test_s3.csv', header=False, index=False)\n",
    "\n",
    "s3_column_order = ['class'] + train_data.columns.drop('class').to_list()\n",
    "train_data[s3_column_order].to_csv(DATA_DIR + 'train_s3.csv', header=False, index=False)"
   ]
  },
  {
   "cell_type": "markdown",
   "metadata": {},
   "source": [
    "## Upload data to S3"
   ]
  },
  {
   "cell_type": "code",
   "execution_count": 5,
   "metadata": {},
   "outputs": [],
   "source": [
    "import sagemaker\n",
    "\n",
    "session = sagemaker.Session() # Store the current SageMaker session\n",
    "\n",
    "# S3 prefix (which folder will we use)\n",
    "prefix = 'magic-gamma'\n",
    "\n",
    "test_location = session.upload_data(DATA_DIR + 'test_s3.csv', key_prefix=prefix)\n",
    "train_location = session.upload_data(DATA_DIR + 'train_s3.csv', key_prefix=prefix)"
   ]
  },
  {
   "cell_type": "markdown",
   "metadata": {},
   "source": [
    "## Initialize XGBoost model"
   ]
  },
  {
   "cell_type": "code",
   "execution_count": 6,
   "metadata": {},
   "outputs": [],
   "source": [
    "from sagemaker import get_execution_role\n",
    "from sagemaker.amazon.amazon_estimator import get_image_uri\n",
    "\n",
    "role = get_execution_role()\n",
    "container = get_image_uri(session.boto_region_name, 'xgboost', repo_version='0.90-1')\n",
    "\n",
    "xgb = sagemaker.estimator.Estimator(container,\n",
    "                                    role,\n",
    "                                    train_instance_count=1,\n",
    "                                    train_instance_type='ml.m4.xlarge',\n",
    "                                    output_path='s3://{}/{}/output'.format(session.default_bucket(), prefix),\n",
    "                                    sagemaker_session=session)\n",
    "\n",
    "xgb.set_hyperparameters(max_depth=5,                   # Note: hyperparameters determined from\n",
    "                        eta=0.1,                       # model trained using sklearn's\n",
    "                        silent=0,                      # GradientBoostingClassifier\n",
    "                        objective='binary:logistic',\n",
    "                        num_round=300)"
   ]
  },
  {
   "cell_type": "markdown",
   "metadata": {},
   "source": [
    "## Train model"
   ]
  },
  {
   "cell_type": "code",
   "execution_count": 7,
   "metadata": {},
   "outputs": [
    {
     "name": "stdout",
     "output_type": "stream",
     "text": [
      "2019-09-25 19:17:40 Starting - Starting the training job...\n",
      "2019-09-25 19:17:42 Starting - Launching requested ML instances...\n",
      "2019-09-25 19:18:39 Starting - Preparing the instances for training......\n",
      "2019-09-25 19:19:32 Downloading - Downloading input data...\n",
      "2019-09-25 19:20:05 Training - Training image download completed. Training in progress..\u001b[31m2019-09-25 19:20:07,798 sagemaker-containers INFO     Imported framework sagemaker_xgboost_container.training\u001b[0m\n",
      "\u001b[31m2019-09-25 19:20:07,799 sagemaker-containers INFO     Failed to parse hyperparameter objective value binary:logistic to Json.\u001b[0m\n",
      "\u001b[31mReturning the value itself\u001b[0m\n",
      "\u001b[31m2019-09-25 19:20:07,803 sagemaker-containers INFO     No GPUs detected (normal if no gpus installed)\u001b[0m\n",
      "\u001b[31m2019-09-25 19:20:07,817 sagemaker_xgboost_container.training INFO     Running XGBoost Sagemaker in algorithm mode\u001b[0m\n",
      "\u001b[31m2019-09-25 19:20:07,820 root         INFO     Determined delimiter of CSV input is ','\u001b[0m\n",
      "\u001b[31m2019-09-25 19:20:07,820 root         ERROR    1,24.6014,12.8664,2.3793,0.5637,0.2985,17.3748,19.5657,8.2758,22.821,216.952\n",
      " does not follow LIBSVM label format <label>(:<weight>).\u001b[0m\n",
      "\u001b[31m2019-09-25 19:20:07,821 root         INFO     Determined delimiter of CSV input is ','\u001b[0m\n",
      "\u001b[31m[19:20:07] 15216x10 matrix with 152160 entries loaded from /opt/ml/input/data/train?format=csv&label_column=0&delimiter=,\u001b[0m\n",
      "\u001b[31m2019-09-25 19:20:07,849 root         INFO     Single node training.\u001b[0m\n",
      "\u001b[31m2019-09-25 19:20:07,849 root         INFO     Train matrix has 15216 rows\u001b[0m\n",
      "\u001b[31m2019-09-25 19:20:07,849 root         INFO     {'eta': 0.1, 'num_round': 300, 'objective': 'binary:logistic', 'max_depth': 5, 'silent': 0}\u001b[0m\n",
      "\u001b[31m[0]#011train-error:0.162329\u001b[0m\n",
      "\u001b[31m[1]#011train-error:0.1551\u001b[0m\n",
      "\u001b[31m[2]#011train-error:0.147674\u001b[0m\n",
      "\u001b[31m[3]#011train-error:0.150434\u001b[0m\n",
      "\u001b[31m[4]#011train-error:0.143073\u001b[0m\n",
      "\u001b[31m[5]#011train-error:0.141693\u001b[0m\n",
      "\u001b[31m[6]#011train-error:0.140773\u001b[0m\n",
      "\u001b[31m[7]#011train-error:0.14051\u001b[0m\n",
      "\u001b[31m[8]#011train-error:0.138538\u001b[0m\n",
      "\u001b[31m[9]#011train-error:0.137618\u001b[0m\n",
      "\u001b[31m[10]#011train-error:0.136961\u001b[0m\n",
      "\u001b[31m[11]#011train-error:0.137421\u001b[0m\n",
      "\u001b[31m[12]#011train-error:0.136632\u001b[0m\n",
      "\u001b[31m[13]#011train-error:0.134989\u001b[0m\n",
      "\u001b[31m[14]#011train-error:0.133084\u001b[0m\n",
      "\u001b[31m[15]#011train-error:0.133149\u001b[0m\n",
      "\u001b[31m[16]#011train-error:0.132886\u001b[0m\n",
      "\u001b[31m[17]#011train-error:0.130915\u001b[0m\n",
      "\u001b[31m[18]#011train-error:0.129666\u001b[0m\n",
      "\u001b[31m[19]#011train-error:0.12914\u001b[0m\n",
      "\u001b[31m[20]#011train-error:0.127695\u001b[0m\n",
      "\u001b[31m[21]#011train-error:0.127169\u001b[0m\n",
      "\u001b[31m[22]#011train-error:0.127103\u001b[0m\n",
      "\u001b[31m[23]#011train-error:0.125394\u001b[0m\n",
      "\u001b[31m[24]#011train-error:0.12454\u001b[0m\n",
      "\u001b[31m[25]#011train-error:0.123357\u001b[0m\n",
      "\u001b[31m[26]#011train-error:0.123226\u001b[0m\n",
      "\u001b[31m[27]#011train-error:0.123028\u001b[0m\n",
      "\u001b[31m[28]#011train-error:0.121845\u001b[0m\n",
      "\u001b[31m[29]#011train-error:0.121057\u001b[0m\n",
      "\u001b[31m[30]#011train-error:0.120005\u001b[0m\n",
      "\u001b[31m[31]#011train-error:0.118757\u001b[0m\n",
      "\u001b[31m[32]#011train-error:0.119019\u001b[0m\n",
      "\u001b[31m[33]#011train-error:0.119019\u001b[0m\n",
      "\u001b[31m[34]#011train-error:0.118625\u001b[0m\n",
      "\u001b[31m[35]#011train-error:0.116982\u001b[0m\n",
      "\u001b[31m[36]#011train-error:0.115405\u001b[0m\n",
      "\u001b[31m[37]#011train-error:0.115011\u001b[0m\n",
      "\u001b[31m[38]#011train-error:0.113302\u001b[0m\n",
      "\u001b[31m[39]#011train-error:0.112776\u001b[0m\n",
      "\u001b[31m[40]#011train-error:0.111856\u001b[0m\n",
      "\u001b[31m[41]#011train-error:0.111527\u001b[0m\n",
      "\u001b[31m[42]#011train-error:0.111527\u001b[0m\n",
      "\u001b[31m[43]#011train-error:0.111396\u001b[0m\n",
      "\u001b[31m[44]#011train-error:0.110673\u001b[0m\n",
      "\u001b[31m[45]#011train-error:0.110016\u001b[0m\n",
      "\u001b[31m[46]#011train-error:0.109096\u001b[0m\n",
      "\u001b[31m[47]#011train-error:0.109227\u001b[0m\n",
      "\u001b[31m[48]#011train-error:0.108176\u001b[0m\n",
      "\u001b[31m[49]#011train-error:0.108307\u001b[0m\n",
      "\u001b[31m[50]#011train-error:0.107978\u001b[0m\n",
      "\u001b[31m[51]#011train-error:0.107453\u001b[0m\n",
      "\u001b[31m[52]#011train-error:0.107453\u001b[0m\n",
      "\u001b[31m[53]#011train-error:0.107058\u001b[0m\n",
      "\u001b[31m[54]#011train-error:0.106533\u001b[0m\n",
      "\u001b[31m[55]#011train-error:0.106007\u001b[0m\n",
      "\u001b[31m[56]#011train-error:0.105547\u001b[0m\n",
      "\u001b[31m[57]#011train-error:0.104364\u001b[0m\n",
      "\u001b[31m[58]#011train-error:0.104298\u001b[0m\n",
      "\u001b[31m[59]#011train-error:0.10397\u001b[0m\n",
      "\u001b[31m[60]#011train-error:0.104101\u001b[0m\n",
      "\u001b[31m[61]#011train-error:0.103509\u001b[0m\n",
      "\u001b[31m[62]#011train-error:0.103181\u001b[0m\n",
      "\u001b[31m[63]#011train-error:0.103049\u001b[0m\n",
      "\u001b[31m[64]#011train-error:0.102392\u001b[0m\n",
      "\u001b[31m[65]#011train-error:0.102524\u001b[0m\n",
      "\u001b[31m[66]#011train-error:0.101341\u001b[0m\n",
      "\u001b[31m[67]#011train-error:0.101472\u001b[0m\n",
      "\u001b[31m[68]#011train-error:0.101275\u001b[0m\n",
      "\u001b[31m[69]#011train-error:0.100618\u001b[0m\n",
      "\u001b[31m[70]#011train-error:0.100618\u001b[0m\n",
      "\u001b[31m[71]#011train-error:0.100486\u001b[0m\n",
      "\u001b[31m[72]#011train-error:0.100092\u001b[0m\n",
      "\u001b[31m[73]#011train-error:0.099698\u001b[0m\n",
      "\u001b[31m[74]#011train-error:0.099435\u001b[0m\n",
      "\u001b[31m[75]#011train-error:0.098909\u001b[0m\n",
      "\u001b[31m[76]#011train-error:0.098318\u001b[0m\n",
      "\u001b[31m[77]#011train-error:0.098318\u001b[0m\n",
      "\u001b[31m[78]#011train-error:0.098055\u001b[0m\n",
      "\u001b[31m[79]#011train-error:0.097858\u001b[0m\n",
      "\u001b[31m[80]#011train-error:0.097726\u001b[0m\n",
      "\u001b[31m[81]#011train-error:0.097595\u001b[0m\n",
      "\u001b[31m[82]#011train-error:0.097332\u001b[0m\n",
      "\u001b[31m[83]#011train-error:0.097135\u001b[0m\n",
      "\u001b[31m[84]#011train-error:0.096806\u001b[0m\n",
      "\u001b[31m[85]#011train-error:0.096017\u001b[0m\n",
      "\u001b[31m[86]#011train-error:0.096215\u001b[0m\n",
      "\u001b[31m[87]#011train-error:0.095886\u001b[0m\n",
      "\u001b[31m[88]#011train-error:0.095689\u001b[0m\n",
      "\u001b[31m[89]#011train-error:0.095294\u001b[0m\n",
      "\u001b[31m[90]#011train-error:0.0949\u001b[0m\n",
      "\u001b[31m[91]#011train-error:0.094506\u001b[0m\n",
      "\u001b[31m[92]#011train-error:0.094243\u001b[0m\n",
      "\u001b[31m[93]#011train-error:0.094243\u001b[0m\n",
      "\u001b[31m[94]#011train-error:0.093914\u001b[0m\n",
      "\u001b[31m[95]#011train-error:0.093323\u001b[0m\n",
      "\u001b[31m[96]#011train-error:0.093191\u001b[0m\n",
      "\u001b[31m[97]#011train-error:0.093126\u001b[0m\n",
      "\u001b[31m[98]#011train-error:0.092994\u001b[0m\n",
      "\u001b[31m[99]#011train-error:0.092994\u001b[0m\n",
      "\u001b[31m[100]#011train-error:0.09306\u001b[0m\n",
      "\u001b[31m[101]#011train-error:0.0926\u001b[0m\n",
      "\u001b[31m[102]#011train-error:0.092468\u001b[0m\n",
      "\u001b[31m[103]#011train-error:0.092271\u001b[0m\n",
      "\u001b[31m[104]#011train-error:0.092206\u001b[0m\n",
      "\u001b[31m[105]#011train-error:0.092074\u001b[0m\n",
      "\u001b[31m[106]#011train-error:0.091943\u001b[0m\n",
      "\u001b[31m[107]#011train-error:0.092008\u001b[0m\n",
      "\u001b[31m[108]#011train-error:0.091746\u001b[0m\n",
      "\u001b[31m[109]#011train-error:0.091285\u001b[0m\n",
      "\u001b[31m[110]#011train-error:0.091417\u001b[0m\n",
      "\u001b[31m[111]#011train-error:0.09122\u001b[0m\n",
      "\u001b[31m[112]#011train-error:0.090825\u001b[0m\n",
      "\u001b[31m[113]#011train-error:0.090891\u001b[0m\n",
      "\u001b[31m[114]#011train-error:0.090694\u001b[0m\n",
      "\u001b[31m[115]#011train-error:0.090628\u001b[0m\n",
      "\u001b[31m[116]#011train-error:0.090563\u001b[0m\n",
      "\u001b[31m[117]#011train-error:0.090628\u001b[0m\n",
      "\u001b[31m[118]#011train-error:0.090431\u001b[0m\n",
      "\u001b[31m[119]#011train-error:0.090037\u001b[0m\n",
      "\u001b[31m[120]#011train-error:0.089182\u001b[0m\n",
      "\u001b[31m[121]#011train-error:0.088722\u001b[0m\n",
      "\u001b[31m[122]#011train-error:0.088657\u001b[0m\n",
      "\u001b[31m[123]#011train-error:0.088788\u001b[0m\n",
      "\u001b[31m[124]#011train-error:0.08846\u001b[0m\n",
      "\u001b[31m[125]#011train-error:0.088328\u001b[0m\n",
      "\u001b[31m[126]#011train-error:0.088131\u001b[0m\n",
      "\u001b[31m[127]#011train-error:0.087999\u001b[0m\n",
      "\u001b[31m[128]#011train-error:0.087934\u001b[0m\n",
      "\u001b[31m[129]#011train-error:0.087605\u001b[0m\n",
      "\u001b[31m[130]#011train-error:0.086948\u001b[0m\n",
      "\u001b[31m[131]#011train-error:0.086094\u001b[0m\n",
      "\u001b[31m[132]#011train-error:0.085831\u001b[0m\n",
      "\u001b[31m[133]#011train-error:0.085831\u001b[0m\n",
      "\u001b[31m[134]#011train-error:0.085831\u001b[0m\n",
      "\u001b[31m[135]#011train-error:0.085436\u001b[0m\n",
      "\u001b[31m[136]#011train-error:0.084976\u001b[0m\n",
      "\u001b[31m[137]#011train-error:0.085042\u001b[0m\n",
      "\u001b[31m[138]#011train-error:0.084253\u001b[0m\n",
      "\u001b[31m[139]#011train-error:0.083991\u001b[0m\n",
      "\u001b[31m[140]#011train-error:0.083859\u001b[0m\n",
      "\u001b[31m[141]#011train-error:0.083728\u001b[0m\n",
      "\u001b[31m[142]#011train-error:0.083465\u001b[0m\n",
      "\u001b[31m[143]#011train-error:0.083136\u001b[0m\n",
      "\u001b[31m[144]#011train-error:0.083005\u001b[0m\n",
      "\u001b[31m[145]#011train-error:0.082413\u001b[0m\n",
      "\u001b[31m[146]#011train-error:0.08215\u001b[0m\n",
      "\u001b[31m[147]#011train-error:0.082019\u001b[0m\n",
      "\u001b[31m[148]#011train-error:0.081756\u001b[0m\n",
      "\u001b[31m[149]#011train-error:0.081559\u001b[0m\n",
      "\u001b[31m[150]#011train-error:0.081625\u001b[0m\n",
      "\u001b[31m[151]#011train-error:0.081625\u001b[0m\n",
      "\u001b[31m[152]#011train-error:0.081625\u001b[0m\n",
      "\u001b[31m[153]#011train-error:0.081625\u001b[0m\n",
      "\u001b[31m[154]#011train-error:0.08123\u001b[0m\n",
      "\u001b[31m[155]#011train-error:0.080705\u001b[0m\n",
      "\u001b[31m[156]#011train-error:0.08077\u001b[0m\n",
      "\u001b[31m[157]#011train-error:0.080705\u001b[0m\n",
      "\u001b[31m[158]#011train-error:0.080639\u001b[0m\n",
      "\u001b[31m[159]#011train-error:0.080442\u001b[0m\n",
      "\u001b[31m[160]#011train-error:0.08031\u001b[0m\n",
      "\u001b[31m[161]#011train-error:0.080113\u001b[0m\n",
      "\u001b[31m[162]#011train-error:0.080047\u001b[0m\n",
      "\u001b[31m[163]#011train-error:0.079982\u001b[0m\n",
      "\u001b[31m[164]#011train-error:0.079916\u001b[0m\n",
      "\u001b[31m[165]#011train-error:0.080179\u001b[0m\n",
      "\u001b[31m[166]#011train-error:0.080047\u001b[0m\n",
      "\u001b[31m[167]#011train-error:0.080047\u001b[0m\n",
      "\u001b[31m[168]#011train-error:0.080047\u001b[0m\n",
      "\u001b[31m[169]#011train-error:0.080047\u001b[0m\n",
      "\u001b[31m[170]#011train-error:0.079982\u001b[0m\n",
      "\u001b[31m[171]#011train-error:0.079522\u001b[0m\n",
      "\u001b[31m[172]#011train-error:0.078733\u001b[0m\n",
      "\u001b[31m[173]#011train-error:0.078667\u001b[0m\n",
      "\u001b[31m[174]#011train-error:0.078733\u001b[0m\n",
      "\u001b[31m[175]#011train-error:0.078404\u001b[0m\n",
      "\u001b[31m[176]#011train-error:0.07847\u001b[0m\n",
      "\u001b[31m[177]#011train-error:0.078404\u001b[0m\n",
      "\u001b[31m[178]#011train-error:0.078339\u001b[0m\n",
      "\u001b[31m[179]#011train-error:0.078404\u001b[0m\n",
      "\u001b[31m[180]#011train-error:0.07847\u001b[0m\n",
      "\u001b[31m[181]#011train-error:0.07847\u001b[0m\n",
      "\u001b[31m[182]#011train-error:0.078207\u001b[0m\n",
      "\u001b[31m[183]#011train-error:0.077944\u001b[0m\n",
      "\u001b[31m[184]#011train-error:0.077879\u001b[0m\n",
      "\u001b[31m[185]#011train-error:0.077747\u001b[0m\n",
      "\u001b[31m[186]#011train-error:0.077681\u001b[0m\n",
      "\u001b[31m[187]#011train-error:0.077419\u001b[0m\n",
      "\u001b[31m[188]#011train-error:0.077024\u001b[0m\n",
      "\u001b[31m[189]#011train-error:0.076893\u001b[0m\n",
      "\u001b[31m[190]#011train-error:0.076893\u001b[0m\n",
      "\u001b[31m[191]#011train-error:0.076958\u001b[0m\n",
      "\u001b[31m[192]#011train-error:0.076498\u001b[0m\n",
      "\u001b[31m[193]#011train-error:0.076104\u001b[0m\n",
      "\u001b[31m[194]#011train-error:0.075513\u001b[0m\n",
      "\u001b[31m[195]#011train-error:0.075447\u001b[0m\n",
      "\u001b[31m[196]#011train-error:0.075315\u001b[0m\n",
      "\u001b[31m[197]#011train-error:0.075184\u001b[0m\n",
      "\u001b[31m[198]#011train-error:0.075118\u001b[0m\n",
      "\u001b[31m[199]#011train-error:0.075053\u001b[0m\n",
      "\u001b[31m[200]#011train-error:0.07479\u001b[0m\n",
      "\u001b[31m[201]#011train-error:0.074593\u001b[0m\n",
      "\u001b[31m[202]#011train-error:0.074527\u001b[0m\n",
      "\u001b[31m[203]#011train-error:0.074264\u001b[0m\n",
      "\u001b[31m[204]#011train-error:0.07433\u001b[0m\n",
      "\u001b[31m[205]#011train-error:0.073607\u001b[0m\n",
      "\u001b[31m[206]#011train-error:0.073081\u001b[0m\n",
      "\u001b[31m[207]#011train-error:0.072818\u001b[0m\n",
      "\u001b[31m[208]#011train-error:0.072358\u001b[0m\n",
      "\u001b[31m[209]#011train-error:0.071767\u001b[0m\n",
      "\u001b[31m[210]#011train-error:0.071701\u001b[0m\n",
      "\u001b[31m[211]#011train-error:0.071569\u001b[0m\n",
      "\u001b[31m[212]#011train-error:0.071504\u001b[0m\n",
      "\u001b[31m[213]#011train-error:0.071241\u001b[0m\n",
      "\u001b[31m[214]#011train-error:0.070846\u001b[0m\n",
      "\u001b[31m[215]#011train-error:0.070781\u001b[0m\n",
      "\u001b[31m[216]#011train-error:0.070584\u001b[0m\n",
      "\u001b[31m[217]#011train-error:0.070649\u001b[0m\n",
      "\u001b[31m[218]#011train-error:0.070452\u001b[0m\n",
      "\u001b[31m[219]#011train-error:0.070321\u001b[0m\n",
      "\u001b[31m[220]#011train-error:0.070255\u001b[0m\n",
      "\u001b[31m[221]#011train-error:0.070321\u001b[0m\n",
      "\u001b[31m[222]#011train-error:0.070255\u001b[0m\n",
      "\u001b[31m[223]#011train-error:0.069992\u001b[0m\n",
      "\u001b[31m[224]#011train-error:0.069795\u001b[0m\n",
      "\u001b[31m[225]#011train-error:0.069466\u001b[0m\n",
      "\u001b[31m[226]#011train-error:0.069598\u001b[0m\n",
      "\u001b[31m[227]#011train-error:0.069532\u001b[0m\n",
      "\u001b[31m[228]#011train-error:0.069466\u001b[0m\n",
      "\u001b[31m[229]#011train-error:0.069466\u001b[0m\n",
      "\u001b[31m[230]#011train-error:0.069203\u001b[0m\n",
      "\u001b[31m[231]#011train-error:0.069138\u001b[0m\n",
      "\u001b[31m[232]#011train-error:0.069138\u001b[0m\n",
      "\u001b[31m[233]#011train-error:0.069072\u001b[0m\n",
      "\u001b[31m[234]#011train-error:0.068941\u001b[0m\n",
      "\u001b[31m[235]#011train-error:0.068678\u001b[0m\n",
      "\u001b[31m[236]#011train-error:0.068481\u001b[0m\n",
      "\u001b[31m[237]#011train-error:0.068415\u001b[0m\n",
      "\u001b[31m[238]#011train-error:0.068218\u001b[0m\n",
      "\u001b[31m[239]#011train-error:0.068283\u001b[0m\n",
      "\u001b[31m[240]#011train-error:0.068218\u001b[0m\n",
      "\u001b[31m[241]#011train-error:0.068152\u001b[0m\n",
      "\u001b[31m[242]#011train-error:0.067955\u001b[0m\n",
      "\u001b[31m[243]#011train-error:0.067692\u001b[0m\n",
      "\u001b[31m[244]#011train-error:0.067495\u001b[0m\n",
      "\u001b[31m[245]#011train-error:0.067495\u001b[0m\n",
      "\u001b[31m[246]#011train-error:0.067363\u001b[0m\n",
      "\u001b[31m[247]#011train-error:0.067363\u001b[0m\n",
      "\u001b[31m[248]#011train-error:0.066903\u001b[0m\n",
      "\u001b[31m[249]#011train-error:0.06664\u001b[0m\n",
      "\u001b[31m[250]#011train-error:0.066377\u001b[0m\n",
      "\u001b[31m[251]#011train-error:0.066312\u001b[0m\n",
      "\u001b[31m[252]#011train-error:0.066312\u001b[0m\n",
      "\u001b[31m[253]#011train-error:0.065786\u001b[0m\n",
      "\u001b[31m[254]#011train-error:0.06572\u001b[0m\n",
      "\u001b[31m[255]#011train-error:0.065523\u001b[0m\n",
      "\u001b[31m[256]#011train-error:0.065195\u001b[0m\n",
      "\u001b[31m[257]#011train-error:0.064997\u001b[0m\n",
      "\u001b[31m[258]#011train-error:0.064932\u001b[0m\n",
      "\u001b[31m[259]#011train-error:0.064866\u001b[0m\n",
      "\u001b[31m[260]#011train-error:0.065129\u001b[0m\n",
      "\u001b[31m[261]#011train-error:0.064866\u001b[0m\n",
      "\u001b[31m[262]#011train-error:0.064734\u001b[0m\n",
      "\u001b[31m[263]#011train-error:0.064734\u001b[0m\n",
      "\u001b[31m[264]#011train-error:0.064472\u001b[0m\n",
      "\u001b[31m[265]#011train-error:0.064406\u001b[0m\n",
      "\u001b[31m[266]#011train-error:0.064077\u001b[0m\n",
      "\u001b[31m[267]#011train-error:0.063617\u001b[0m\n",
      "\u001b[31m[268]#011train-error:0.063157\u001b[0m\n",
      "\u001b[31m[269]#011train-error:0.062829\u001b[0m\n",
      "\u001b[31m[270]#011train-error:0.063026\u001b[0m\n",
      "\u001b[31m[271]#011train-error:0.062763\u001b[0m\n",
      "\u001b[31m[272]#011train-error:0.062631\u001b[0m\n",
      "\u001b[31m[273]#011train-error:0.062566\u001b[0m\n",
      "\u001b[31m[274]#011train-error:0.0625\u001b[0m\n",
      "\u001b[31m[275]#011train-error:0.062171\u001b[0m\n",
      "\u001b[31m[276]#011train-error:0.062106\u001b[0m\n",
      "\u001b[31m[277]#011train-error:0.062303\u001b[0m\n",
      "\u001b[31m[278]#011train-error:0.061777\u001b[0m\n",
      "\u001b[31m[279]#011train-error:0.061711\u001b[0m\n",
      "\u001b[31m[280]#011train-error:0.061448\u001b[0m\n",
      "\u001b[31m[281]#011train-error:0.061186\u001b[0m\n",
      "\u001b[31m[282]#011train-error:0.060988\u001b[0m\n",
      "\u001b[31m[283]#011train-error:0.060594\u001b[0m\n",
      "\u001b[31m[284]#011train-error:0.060331\u001b[0m\n",
      "\u001b[31m[285]#011train-error:0.060331\u001b[0m\n",
      "\u001b[31m[286]#011train-error:0.0602\u001b[0m\n",
      "\u001b[31m[287]#011train-error:0.059937\u001b[0m\n",
      "\u001b[31m[288]#011train-error:0.059805\u001b[0m\n",
      "\u001b[31m[289]#011train-error:0.059543\u001b[0m\n",
      "\u001b[31m[290]#011train-error:0.059608\u001b[0m\n",
      "\u001b[31m[291]#011train-error:0.059477\u001b[0m\n",
      "\u001b[31m[292]#011train-error:0.059083\u001b[0m\n",
      "\u001b[31m[293]#011train-error:0.059083\u001b[0m\n",
      "\u001b[31m[294]#011train-error:0.058951\u001b[0m\n",
      "\u001b[31m[295]#011train-error:0.058885\u001b[0m\n",
      "\u001b[31m[296]#011train-error:0.058754\u001b[0m\n",
      "\u001b[31m[297]#011train-error:0.058754\u001b[0m\n",
      "\u001b[31m[298]#011train-error:0.058491\u001b[0m\n",
      "\u001b[31m[299]#011train-error:0.057834\u001b[0m\n"
     ]
    },
    {
     "name": "stdout",
     "output_type": "stream",
     "text": [
      "\n",
      "2019-09-25 19:20:22 Uploading - Uploading generated training model\n",
      "2019-09-25 19:20:22 Completed - Training job completed\n",
      "Training seconds: 50\n",
      "Billable seconds: 50\n"
     ]
    }
   ],
   "source": [
    "s3_input_train = sagemaker.s3_input(s3_data=train_location, content_type='csv')\n",
    "xgb.fit({'train': s3_input_train})"
   ]
  },
  {
   "cell_type": "markdown",
   "metadata": {},
   "source": [
    "## Evaluate model\n",
    "\n",
    "As demonstrated below, the model we've trained here using AWS Sagemaker achieves a 0.94 AUC which is consistent with the model developed on a laptop using Scikit-Learn's GradientBoostingClassifier."
   ]
  },
  {
   "cell_type": "code",
   "execution_count": 8,
   "metadata": {},
   "outputs": [],
   "source": [
    "xgb_transformer = xgb.transformer(instance_count = 1, instance_type = 'ml.m4.xlarge')"
   ]
  },
  {
   "cell_type": "code",
   "execution_count": 9,
   "metadata": {},
   "outputs": [],
   "source": [
    "xgb_transformer.transform(test_location, content_type='text/csv', split_type='Line')"
   ]
  },
  {
   "cell_type": "code",
   "execution_count": 10,
   "metadata": {},
   "outputs": [
    {
     "name": "stdout",
     "output_type": "stream",
     "text": [
      "......................\u001b[31m[2019-09-25 19:24:10 +0000] [17] [INFO] Starting gunicorn 19.9.0\u001b[0m\n",
      "\u001b[31m[2019-09-25 19:24:10 +0000] [17] [INFO] Listening at: unix:/tmp/gunicorn.sock (17)\u001b[0m\n",
      "\u001b[31m[2019-09-25 19:24:10 +0000] [17] [INFO] Using worker: gevent\u001b[0m\n",
      "\u001b[31m[2019-09-25 19:24:10 +0000] [24] [INFO] Booting worker with pid: 24\u001b[0m\n",
      "\u001b[31m[2019-09-25 19:24:10 +0000] [25] [INFO] Booting worker with pid: 25\u001b[0m\n",
      "\u001b[31m[2019-09-25 19:24:10 +0000] [26] [INFO] Booting worker with pid: 26\u001b[0m\n",
      "\u001b[31m[2019-09-25 19:24:10 +0000] [27] [INFO] Booting worker with pid: 27\u001b[0m\n",
      "\u001b[31m[2019-09-25:19:24:31:INFO] No GPUs detected (normal if no gpus installed)\u001b[0m\n",
      "\u001b[31m169.254.255.130 - - [25/Sep/2019:19:24:31 +0000] \"GET /ping HTTP/1.1\" 200 0 \"-\" \"Go-http-client/1.1\"\u001b[0m\n",
      "\u001b[31m169.254.255.130 - - [25/Sep/2019:19:24:31 +0000] \"GET /execution-parameters HTTP/1.1\" 200 84 \"-\" \"Go-http-client/1.1\"\u001b[0m\n",
      "\u001b[31m[2019-09-25:19:24:31:INFO] Determined delimiter of CSV input is ','\u001b[0m\n",
      "\u001b[31m169.254.255.130 - - [25/Sep/2019:19:24:31 +0000] \"POST /invocations HTTP/1.1\" 200 73685 \"-\" \"Go-http-client/1.1\"\u001b[0m\n",
      "\n"
     ]
    }
   ],
   "source": [
    "xgb_transformer.wait()"
   ]
  },
  {
   "cell_type": "code",
   "execution_count": 11,
   "metadata": {},
   "outputs": [
    {
     "name": "stdout",
     "output_type": "stream",
     "text": [
      "Completed 72.0 KiB/72.0 KiB (1.1 MiB/s) with 1 file(s) remaining\r",
      "download: s3://sagemaker-us-east-2-053461515887/sagemaker-xgboost-2019-09-25-19-20-53-249/test_s3.csv.out to ../data/test_s3.csv.out\r\n"
     ]
    }
   ],
   "source": [
    "!aws s3 cp --recursive $xgb_transformer.output_path $DATA_DIR"
   ]
  },
  {
   "cell_type": "code",
   "execution_count": 12,
   "metadata": {},
   "outputs": [
    {
     "data": {
      "text/plain": [
       "0.9401347149632211"
      ]
     },
     "execution_count": 12,
     "metadata": {},
     "output_type": "execute_result"
    }
   ],
   "source": [
    "from sklearn.metrics import roc_auc_score\n",
    "predictions = pd.read_csv(DATA_DIR + 'test_s3.csv.out', header=None)\n",
    "roc_auc_score(test_data['class'], predictions)"
   ]
  },
  {
   "cell_type": "markdown",
   "metadata": {},
   "source": [
    "## Processing a single event\n",
    "\n",
    "Below, we create a JSON string of the format that we intend to POST to our model api. We'll need to set up a Lambda function to transform that string to a numpy array that can be consumed the model endpoint."
   ]
  },
  {
   "cell_type": "code",
   "execution_count": 32,
   "metadata": {},
   "outputs": [
    {
     "name": "stdout",
     "output_type": "stream",
     "text": [
      "{\"Length\":21.0483,\"Width\":17.6112,\"Size\":2.4409,\"Conc\":0.4529,\"Conc1\":0.2373,\"Asym\":29.591,\"M3Long\":-9.6241,\"M3Trans\":14.2623,\"Alpha\":32.4415,\"Dist\":173.549}\n",
      "\n",
      "{\"Length\":154.583,\"Width\":46.0362,\"Size\":3.0382,\"Conc\":0.2253,\"Conc1\":0.1204,\"Asym\":78.1719,\"M3Long\":169.773,\"M3Trans\":11.9243,\"Alpha\":56.935,\"Dist\":200.131}\n"
     ]
    }
   ],
   "source": [
    "test_event = test_data.loc[0, test_data.columns != 'class'].to_json()\n",
    "print(test_event)\n",
    "print()\n",
    "print(test_data.loc[9, test_data.columns != 'class'].to_json())"
   ]
  },
  {
   "cell_type": "code",
   "execution_count": 33,
   "metadata": {},
   "outputs": [
    {
     "data": {
      "text/plain": [
       "b'21.0483,17.6112,2.4409,0.4529,0.2373,29.591,-9.6241,14.2623,32.4415,173.549'"
      ]
     },
     "execution_count": 33,
     "metadata": {},
     "output_type": "execute_result"
    }
   ],
   "source": [
    "import json\n",
    "\n",
    "def json_to_numpy(event):\n",
    "    \"\"\"\n",
    "    param: event, a json string that includes key value pairs of the features associate with the MAGIC data set\n",
    "    returns: comma separated string of values in appropriate order to be consumed by the model endpoint\n",
    "    \"\"\"\n",
    "    \n",
    "    e = json.loads(event)\n",
    "    column_order = ['Length', 'Width', 'Size', 'Conc', 'Conc1', 'Asym', 'M3Long', 'M3Trans', 'Alpha', 'Dist']\n",
    "    return ','.join([str(e[column]) for column in column_order]).encode('utf-8')\n",
    "\n",
    "json_to_numpy(test_event)"
   ]
  },
  {
   "cell_type": "code",
   "execution_count": 34,
   "metadata": {},
   "outputs": [
    {
     "name": "stderr",
     "output_type": "stream",
     "text": [
      "Using already existing model: sagemaker-xgboost-2019-09-25-19-17-40-267\n"
     ]
    },
    {
     "ename": "ClientError",
     "evalue": "An error occurred (ValidationException) when calling the CreateEndpoint operation: Cannot create already existing endpoint \"arn:aws:sagemaker:us-east-2:053461515887:endpoint/sagemaker-xgboost-2019-09-25-19-17-40-267\".",
     "output_type": "error",
     "traceback": [
      "\u001b[0;31m---------------------------------------------------------------------------\u001b[0m",
      "\u001b[0;31mClientError\u001b[0m                               Traceback (most recent call last)",
      "\u001b[0;32m<ipython-input-34-ccb632c8fb45>\u001b[0m in \u001b[0;36m<module>\u001b[0;34m()\u001b[0m\n\u001b[0;32m----> 1\u001b[0;31m \u001b[0mxgb_predictor\u001b[0m \u001b[0;34m=\u001b[0m \u001b[0mxgb\u001b[0m\u001b[0;34m.\u001b[0m\u001b[0mdeploy\u001b[0m\u001b[0;34m(\u001b[0m\u001b[0minitial_instance_count\u001b[0m \u001b[0;34m=\u001b[0m \u001b[0;36m1\u001b[0m\u001b[0;34m,\u001b[0m \u001b[0minstance_type\u001b[0m \u001b[0;34m=\u001b[0m \u001b[0;34m'ml.m4.xlarge'\u001b[0m\u001b[0;34m)\u001b[0m\u001b[0;34m\u001b[0m\u001b[0m\n\u001b[0m",
      "\u001b[0;32m~/anaconda3/envs/python3/lib/python3.6/site-packages/sagemaker/estimator.py\u001b[0m in \u001b[0;36mdeploy\u001b[0;34m(self, initial_instance_count, instance_type, accelerator_type, endpoint_name, use_compiled_model, update_endpoint, wait, model_name, kms_key, **kwargs)\u001b[0m\n\u001b[1;32m    548\u001b[0m             \u001b[0mtags\u001b[0m\u001b[0;34m=\u001b[0m\u001b[0mself\u001b[0m\u001b[0;34m.\u001b[0m\u001b[0mtags\u001b[0m\u001b[0;34m,\u001b[0m\u001b[0;34m\u001b[0m\u001b[0m\n\u001b[1;32m    549\u001b[0m             \u001b[0mwait\u001b[0m\u001b[0;34m=\u001b[0m\u001b[0mwait\u001b[0m\u001b[0;34m,\u001b[0m\u001b[0;34m\u001b[0m\u001b[0m\n\u001b[0;32m--> 550\u001b[0;31m             \u001b[0mkms_key\u001b[0m\u001b[0;34m=\u001b[0m\u001b[0mkms_key\u001b[0m\u001b[0;34m,\u001b[0m\u001b[0;34m\u001b[0m\u001b[0m\n\u001b[0m\u001b[1;32m    551\u001b[0m         )\n\u001b[1;32m    552\u001b[0m \u001b[0;34m\u001b[0m\u001b[0m\n",
      "\u001b[0;32m~/anaconda3/envs/python3/lib/python3.6/site-packages/sagemaker/model.py\u001b[0m in \u001b[0;36mdeploy\u001b[0;34m(self, initial_instance_count, instance_type, accelerator_type, endpoint_name, update_endpoint, tags, kms_key, wait)\u001b[0m\n\u001b[1;32m    460\u001b[0m         \u001b[0;32melse\u001b[0m\u001b[0;34m:\u001b[0m\u001b[0;34m\u001b[0m\u001b[0m\n\u001b[1;32m    461\u001b[0m             self.sagemaker_session.endpoint_from_production_variants(\n\u001b[0;32m--> 462\u001b[0;31m                 \u001b[0mself\u001b[0m\u001b[0;34m.\u001b[0m\u001b[0mendpoint_name\u001b[0m\u001b[0;34m,\u001b[0m \u001b[0;34m[\u001b[0m\u001b[0mproduction_variant\u001b[0m\u001b[0;34m]\u001b[0m\u001b[0;34m,\u001b[0m \u001b[0mtags\u001b[0m\u001b[0;34m,\u001b[0m \u001b[0mkms_key\u001b[0m\u001b[0;34m,\u001b[0m \u001b[0mwait\u001b[0m\u001b[0;34m\u001b[0m\u001b[0m\n\u001b[0m\u001b[1;32m    463\u001b[0m             )\n\u001b[1;32m    464\u001b[0m \u001b[0;34m\u001b[0m\u001b[0m\n",
      "\u001b[0;32m~/anaconda3/envs/python3/lib/python3.6/site-packages/sagemaker/session.py\u001b[0m in \u001b[0;36mendpoint_from_production_variants\u001b[0;34m(self, name, production_variants, tags, kms_key, wait)\u001b[0m\n\u001b[1;32m   1361\u001b[0m \u001b[0;34m\u001b[0m\u001b[0m\n\u001b[1;32m   1362\u001b[0m             \u001b[0mself\u001b[0m\u001b[0;34m.\u001b[0m\u001b[0msagemaker_client\u001b[0m\u001b[0;34m.\u001b[0m\u001b[0mcreate_endpoint_config\u001b[0m\u001b[0;34m(\u001b[0m\u001b[0;34m**\u001b[0m\u001b[0mconfig_options\u001b[0m\u001b[0;34m)\u001b[0m\u001b[0;34m\u001b[0m\u001b[0m\n\u001b[0;32m-> 1363\u001b[0;31m         \u001b[0;32mreturn\u001b[0m \u001b[0mself\u001b[0m\u001b[0;34m.\u001b[0m\u001b[0mcreate_endpoint\u001b[0m\u001b[0;34m(\u001b[0m\u001b[0mendpoint_name\u001b[0m\u001b[0;34m=\u001b[0m\u001b[0mname\u001b[0m\u001b[0;34m,\u001b[0m \u001b[0mconfig_name\u001b[0m\u001b[0;34m=\u001b[0m\u001b[0mname\u001b[0m\u001b[0;34m,\u001b[0m \u001b[0mtags\u001b[0m\u001b[0;34m=\u001b[0m\u001b[0mtags\u001b[0m\u001b[0;34m,\u001b[0m \u001b[0mwait\u001b[0m\u001b[0;34m=\u001b[0m\u001b[0mwait\u001b[0m\u001b[0;34m)\u001b[0m\u001b[0;34m\u001b[0m\u001b[0m\n\u001b[0m\u001b[1;32m   1364\u001b[0m \u001b[0;34m\u001b[0m\u001b[0m\n\u001b[1;32m   1365\u001b[0m     \u001b[0;32mdef\u001b[0m \u001b[0mexpand_role\u001b[0m\u001b[0;34m(\u001b[0m\u001b[0mself\u001b[0m\u001b[0;34m,\u001b[0m \u001b[0mrole\u001b[0m\u001b[0;34m)\u001b[0m\u001b[0;34m:\u001b[0m\u001b[0;34m\u001b[0m\u001b[0m\n",
      "\u001b[0;32m~/anaconda3/envs/python3/lib/python3.6/site-packages/sagemaker/session.py\u001b[0m in \u001b[0;36mcreate_endpoint\u001b[0;34m(self, endpoint_name, config_name, tags, wait)\u001b[0m\n\u001b[1;32m    975\u001b[0m \u001b[0;34m\u001b[0m\u001b[0m\n\u001b[1;32m    976\u001b[0m         self.sagemaker_client.create_endpoint(\n\u001b[0;32m--> 977\u001b[0;31m             \u001b[0mEndpointName\u001b[0m\u001b[0;34m=\u001b[0m\u001b[0mendpoint_name\u001b[0m\u001b[0;34m,\u001b[0m \u001b[0mEndpointConfigName\u001b[0m\u001b[0;34m=\u001b[0m\u001b[0mconfig_name\u001b[0m\u001b[0;34m,\u001b[0m \u001b[0mTags\u001b[0m\u001b[0;34m=\u001b[0m\u001b[0mtags\u001b[0m\u001b[0;34m\u001b[0m\u001b[0m\n\u001b[0m\u001b[1;32m    978\u001b[0m         )\n\u001b[1;32m    979\u001b[0m         \u001b[0;32mif\u001b[0m \u001b[0mwait\u001b[0m\u001b[0;34m:\u001b[0m\u001b[0;34m\u001b[0m\u001b[0m\n",
      "\u001b[0;32m~/anaconda3/envs/python3/lib/python3.6/site-packages/botocore/client.py\u001b[0m in \u001b[0;36m_api_call\u001b[0;34m(self, *args, **kwargs)\u001b[0m\n\u001b[1;32m    355\u001b[0m                     \"%s() only accepts keyword arguments.\" % py_operation_name)\n\u001b[1;32m    356\u001b[0m             \u001b[0;31m# The \"self\" in this scope is referring to the BaseClient.\u001b[0m\u001b[0;34m\u001b[0m\u001b[0;34m\u001b[0m\u001b[0m\n\u001b[0;32m--> 357\u001b[0;31m             \u001b[0;32mreturn\u001b[0m \u001b[0mself\u001b[0m\u001b[0;34m.\u001b[0m\u001b[0m_make_api_call\u001b[0m\u001b[0;34m(\u001b[0m\u001b[0moperation_name\u001b[0m\u001b[0;34m,\u001b[0m \u001b[0mkwargs\u001b[0m\u001b[0;34m)\u001b[0m\u001b[0;34m\u001b[0m\u001b[0m\n\u001b[0m\u001b[1;32m    358\u001b[0m \u001b[0;34m\u001b[0m\u001b[0m\n\u001b[1;32m    359\u001b[0m         \u001b[0m_api_call\u001b[0m\u001b[0;34m.\u001b[0m\u001b[0m__name__\u001b[0m \u001b[0;34m=\u001b[0m \u001b[0mstr\u001b[0m\u001b[0;34m(\u001b[0m\u001b[0mpy_operation_name\u001b[0m\u001b[0;34m)\u001b[0m\u001b[0;34m\u001b[0m\u001b[0m\n",
      "\u001b[0;32m~/anaconda3/envs/python3/lib/python3.6/site-packages/botocore/client.py\u001b[0m in \u001b[0;36m_make_api_call\u001b[0;34m(self, operation_name, api_params)\u001b[0m\n\u001b[1;32m    659\u001b[0m             \u001b[0merror_code\u001b[0m \u001b[0;34m=\u001b[0m \u001b[0mparsed_response\u001b[0m\u001b[0;34m.\u001b[0m\u001b[0mget\u001b[0m\u001b[0;34m(\u001b[0m\u001b[0;34m\"Error\"\u001b[0m\u001b[0;34m,\u001b[0m \u001b[0;34m{\u001b[0m\u001b[0;34m}\u001b[0m\u001b[0;34m)\u001b[0m\u001b[0;34m.\u001b[0m\u001b[0mget\u001b[0m\u001b[0;34m(\u001b[0m\u001b[0;34m\"Code\"\u001b[0m\u001b[0;34m)\u001b[0m\u001b[0;34m\u001b[0m\u001b[0m\n\u001b[1;32m    660\u001b[0m             \u001b[0merror_class\u001b[0m \u001b[0;34m=\u001b[0m \u001b[0mself\u001b[0m\u001b[0;34m.\u001b[0m\u001b[0mexceptions\u001b[0m\u001b[0;34m.\u001b[0m\u001b[0mfrom_code\u001b[0m\u001b[0;34m(\u001b[0m\u001b[0merror_code\u001b[0m\u001b[0;34m)\u001b[0m\u001b[0;34m\u001b[0m\u001b[0m\n\u001b[0;32m--> 661\u001b[0;31m             \u001b[0;32mraise\u001b[0m \u001b[0merror_class\u001b[0m\u001b[0;34m(\u001b[0m\u001b[0mparsed_response\u001b[0m\u001b[0;34m,\u001b[0m \u001b[0moperation_name\u001b[0m\u001b[0;34m)\u001b[0m\u001b[0;34m\u001b[0m\u001b[0m\n\u001b[0m\u001b[1;32m    662\u001b[0m         \u001b[0;32melse\u001b[0m\u001b[0;34m:\u001b[0m\u001b[0;34m\u001b[0m\u001b[0m\n\u001b[1;32m    663\u001b[0m             \u001b[0;32mreturn\u001b[0m \u001b[0mparsed_response\u001b[0m\u001b[0;34m\u001b[0m\u001b[0m\n",
      "\u001b[0;31mClientError\u001b[0m: An error occurred (ValidationException) when calling the CreateEndpoint operation: Cannot create already existing endpoint \"arn:aws:sagemaker:us-east-2:053461515887:endpoint/sagemaker-xgboost-2019-09-25-19-17-40-267\"."
     ]
    }
   ],
   "source": [
    "xgb_predictor = xgb.deploy(initial_instance_count = 1, instance_type = 'ml.m4.xlarge')"
   ]
  },
  {
   "cell_type": "code",
   "execution_count": 35,
   "metadata": {},
   "outputs": [],
   "source": [
    "import boto3\n",
    "\n",
    "runtime = boto3.Session().client('sagemaker-runtime')"
   ]
  },
  {
   "cell_type": "code",
   "execution_count": 36,
   "metadata": {},
   "outputs": [
    {
     "data": {
      "text/plain": [
       "'sagemaker-xgboost-2019-09-25-19-17-40-267'"
      ]
     },
     "execution_count": 36,
     "metadata": {},
     "output_type": "execute_result"
    }
   ],
   "source": [
    "xgb_predictor.endpoint"
   ]
  },
  {
   "cell_type": "code",
   "execution_count": 37,
   "metadata": {},
   "outputs": [],
   "source": [
    "response = runtime.invoke_endpoint(EndpointName = xgb_predictor.endpoint, # The name of the endpoint we created\n",
    "                                       ContentType = 'text/csv',                     # The data format that is expected\n",
    "                                       Body = json_to_numpy(test_event))"
   ]
  },
  {
   "cell_type": "code",
   "execution_count": 38,
   "metadata": {},
   "outputs": [
    {
     "name": "stdout",
     "output_type": "stream",
     "text": [
      "{'ResponseMetadata': {'RequestId': 'b57bb8a5-faed-4d54-9ffa-cda35a7eb161', 'HTTPStatusCode': 200, 'HTTPHeaders': {'x-amzn-requestid': 'b57bb8a5-faed-4d54-9ffa-cda35a7eb161', 'x-amzn-invoked-production-variant': 'AllTraffic', 'date': 'Wed, 25 Sep 2019 23:48:18 GMT', 'content-type': 'text/csv; charset=utf-8', 'content-length': '18'}, 'RetryAttempts': 0}, 'ContentType': 'text/csv; charset=utf-8', 'InvokedProductionVariant': 'AllTraffic', 'Body': <botocore.response.StreamingBody object at 0x7fdd6e1f6fd0>}\n"
     ]
    }
   ],
   "source": [
    "print(response)"
   ]
  },
  {
   "cell_type": "code",
   "execution_count": 39,
   "metadata": {},
   "outputs": [
    {
     "name": "stdout",
     "output_type": "stream",
     "text": [
      "0.9058170914649963\n"
     ]
    }
   ],
   "source": [
    "response = response['Body'].read().decode('utf-8')\n",
    "print(response)"
   ]
  },
  {
   "cell_type": "markdown",
   "metadata": {},
   "source": [
    "## Define Lambda function\n",
    "\n",
    "We define the Lambda function below which is responsible for interfracing with our model endpoint on behalf of our API. The API expects data to be passed as a json string formatted as follows:  \n",
    "`'{\"Length\":21.0483,\"Width\":17.6112,\"Size\":2.4409,\"Conc\":0.4529,\"Conc1\":0.2373,\"Asym\":29.591,\"M3Long\":-9.6241,\n",
    "\"M3Trans\":14.2623,\"Alpha\":32.4415,\"Dist\":173.549}'`  \n",
    "The Lambda function parses this string to be passed to our model endpoint. It then recieves the response from the model and returns a value of either `g` (gamma ray) or `h` (hadron) depending on whether the model prediction is above or below the 0.5 prediction threshold.\n",
    "\n",
    "```python\n",
    "import boto3\n",
    "import json\n",
    "\n",
    "def json_to_numpy(event):\n",
    "    \"\"\"\n",
    "    param: event, a json string that includes key value pairs of the features\n",
    "                  associated with the MAGIC data set\n",
    "    returns: comma separated string of values in appropriate order to be\n",
    "             consumed by the model endpoint\n",
    "    \"\"\"\n",
    "    \n",
    "    e = json.loads(event)\n",
    "    column_order = ['Length', 'Width', 'Size', 'Conc', 'Conc1', 'Asym',\n",
    "                    'M3Long', 'M3Trans', 'Alpha', 'Dist']\n",
    "    return ','.join([str(e[column]) for column in column_order]).encode('utf-8')\n",
    "\n",
    "def lambda_handler(event, context):\n",
    "    runtime = boto3.Session().client('sagemaker-runtime')\n",
    "    \n",
    "    response = runtime.invoke_endpoint(\n",
    "        EndpointName = 'sagemaker-xgboost-2019-09-25-19-17-40-267',\n",
    "        ContentType = 'text/csv',\n",
    "        Body = json_to_numpy(event['body']))\n",
    "    \n",
    "    if response['Body'].read().decode('utf-8') > 0.5:\n",
    "        result = 'g' #gamma ray\n",
    "    else:\n",
    "        result = 'h' # hadron\n",
    "    \n",
    "    return {\n",
    "        'statusCode': 200,\n",
    "        'headers' : {'Content-Type' : 'text/plain',\n",
    "                     'Access-Control-Allow-Origin' : '*'},\n",
    "        'body': result\n",
    "    }\n",
    "```"
   ]
  },
  {
   "cell_type": "code",
   "execution_count": null,
   "metadata": {},
   "outputs": [],
   "source": []
  }
 ],
 "metadata": {
  "kernelspec": {
   "display_name": "conda_python3",
   "language": "python",
   "name": "conda_python3"
  },
  "language_info": {
   "codemirror_mode": {
    "name": "ipython",
    "version": 3
   },
   "file_extension": ".py",
   "mimetype": "text/x-python",
   "name": "python",
   "nbconvert_exporter": "python",
   "pygments_lexer": "ipython3",
   "version": "3.6.5"
  }
 },
 "nbformat": 4,
 "nbformat_minor": 2
}
